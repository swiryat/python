{
 "cells": [
  {
   "cell_type": "code",
   "execution_count": 24,
   "metadata": {},
   "outputs": [
    {
     "name": "stdout",
     "output_type": "stream",
     "text": [
      "Точность классификации KNN: 0.9736842105263158\n",
      "R2 для регрессии KNN: 0.36106697446565017\n"
     ]
    }
   ],
   "source": [
    "import numpy as np\n",
    "\n",
    "# Реализация K-ближайших соседей\n",
    "class KNearestNeighbors:\n",
    "    def __init__(self, n_neighbors=17, regression=False):\n",
    "        self.n_neighbors = n_neighbors  # Количество соседей\n",
    "        self.regression = regression    # Режим: True для регрессии, False для классификации\n",
    "\n",
    "    # Метод обучения, просто сохраняет обучающие данные\n",
    "    def fit(self, X_train, y_train):\n",
    "        self.X_train = X_train  # Признаки обучающей выборки\n",
    "        self.y_train = y_train  # Метки или целевые значения обучающей выборки\n",
    "\n",
    "    # Вычисление евклидова расстояния между тестовой точкой и всеми обучающими точками\n",
    "    def _euclidean_distances(self, x_test_i):\n",
    "        return np.sqrt(np.sum((self.X_train - x_test_i) ** 2, axis=1))\n",
    "\n",
    "    # Прогноз для одного тестового образца\n",
    "    def _make_prediction(self, x_test_i):\n",
    "        distances = self._euclidean_distances(x_test_i)  # Расстояния до всех соседей\n",
    "        k_nearest_indexes = np.argsort(distances)[:self.n_neighbors]  # Индексы k ближайших\n",
    "        targets = self.y_train[k_nearest_indexes]  # Значения целевой переменной ближайших соседей\n",
    "\n",
    "        # Возвращаем среднее для регрессии или моду для классификации\n",
    "        return np.mean(targets) if self.regression else np.bincount(targets).argmax()\n",
    "\n",
    "    # Прогноз для всех тестовых образцов\n",
    "    def predict(self, X_test):\n",
    "        return np.array([self._make_prediction(x) for x in X_test])\n",
    "\n",
    "# Тестирование на наборе данных Iris\n",
    "from sklearn.datasets import load_iris, load_diabetes\n",
    "from sklearn.model_selection import train_test_split\n",
    "from sklearn.metrics import accuracy_score, r2_score\n",
    "\n",
    "# Загрузка датасета для классификации (Iris)\n",
    "X1, y1 = load_iris(return_X_y=True)\n",
    "X1_train, X1_test, y1_train, y1_test = train_test_split(X1, y1, random_state=0)\n",
    "\n",
    "# Классификатор KNN\n",
    "knn_clf = KNearestNeighbors()\n",
    "knn_clf.fit(X1_train, y1_train)\n",
    "knn_clf_pred_res = knn_clf.predict(X1_test)\n",
    "knn_clf_accuracy = accuracy_score(y1_test, knn_clf_pred_res)\n",
    "\n",
    "print(f'Точность классификации KNN: {knn_clf_accuracy}')\n",
    "\n",
    "# Загрузка датасета для регрессии (Diabetes)\n",
    "X2, y2 = load_diabetes(return_X_y=True)\n",
    "X2_train, X2_test, y2_train, y2_test = train_test_split(X2, y2, random_state=0)\n",
    "\n",
    "# Регрессор KNN\n",
    "knn_reg = KNearestNeighbors(regression=True)\n",
    "knn_reg.fit(X2_train, y2_train)\n",
    "knn_reg_pred_res = knn_reg.predict(X2_test)\n",
    "knn_reg_r2 = r2_score(y2_test, knn_reg_pred_res)\n",
    "\n",
    "print(f'R2 для регрессии KNN: {knn_reg_r2}')\n",
    "\n"
   ]
  }
 ],
 "metadata": {
  "kernelspec": {
   "display_name": "Python 3",
   "language": "python",
   "name": "python3"
  },
  "language_info": {
   "codemirror_mode": {
    "name": "ipython",
    "version": 3
   },
   "file_extension": ".py",
   "mimetype": "text/x-python",
   "name": "python",
   "nbconvert_exporter": "python",
   "pygments_lexer": "ipython3",
   "version": "3.11.6"
  }
 },
 "nbformat": 4,
 "nbformat_minor": 2
}
